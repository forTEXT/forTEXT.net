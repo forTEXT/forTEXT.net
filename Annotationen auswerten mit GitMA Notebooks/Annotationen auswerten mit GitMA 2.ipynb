{
 "cells": [
  {
   "cell_type": "markdown",
   "metadata": {},
   "source": [
    "# Annotationen auswerten mit GitMA 2\n",
    "\n",
    "In diesem Teil der Lerneinheit \"CATMA-Annotationen auswerten, Gold Standard erstellen und Inter-Annotator-Agreement berechnen mit GitMA\" nutzen wir ein CATMA-Demo-Projekt, um einige generelle statistische Eigenschaften zu betrachten. Mithilfe dieses Notebooks lernen Sie außerdem einige grundlegende Möglichkeiten der Visualisierung Ihrer Annotationsdaten kennen. Sie lernen unterschiedliche *Annotation Collections* zu visalisieren und wie Sie *Tags* und *Properties* grafisch darstellen lassen können. Um diese Funktionen mit eigenen Annotationsdaten ausführen zu können, müsssen Sie diese mit dem Annotationstool CATMA erstellt haben. Wie Sie in CATMA annotieren, erfahren Sie in der forTEXT-Lerneinheit zur [manuellen Annotation mit CATMA](https://fortext.net/routinen/lerneinheiten/manuelle-annotation-mit-catma) (vgl. Horstmann 2019).\n",
    "\n",
    "Um eigene CATMA-Annotationsdaten auswerten zu können, müssen diese außerdem zuerst lokal auf Ihrem Computer gespeichert werden. Wie Sie das mit GitMA machen können, erfahren Sie im ersten Teil dieser Lerneinheit, den Sie [hier](https://github.com/forTEXT/gitma/tree/main/demo_notebooks) heruterladen können."
   ]
  },
  {
   "cell_type": "markdown",
   "metadata": {},
   "source": [
    "## Inhalt\n",
    "* [1. CATMA-Projekt laden](#1-bullet)\n",
    "* [2. Generelle Statistiken aufrufen](#2-bullet)\n",
    "* [3. Einen Überblick über die Annotationen des Projektes bekommen](#3-bullet)\n",
    "* [4. Spezifische Annotation Collections visualisieren](#4-bullet)\n",
    "* [5. Kookurrenznetzwerke von Annotationen darstellen](#5-bullet)\n",
    "* [6. Annotation Collections als Pandas DataFrame darstellen](#6-bullet)\n",
    " * [6.1 Tags analysieren](#7-bullet)\n",
    " * [6.2 Properties analysieren](#8-bullet)"
   ]
  },
  {
   "cell_type": "markdown",
   "metadata": {},
   "source": [
    "## 1. CATMA-Projekt laden <a class=\"anchor\" id=\"1-bullet\"></a>\n",
    "\n",
    "Ein CATMA-Projekt besteht aus Dokumenten, in denen Text abgelegt ist, Tagsets, in denen die Annotationskategorien abgelegt sind und Collections, in denen die Positionen und Tags der Annotationen pro Text und Annotator:in abgelegt sind. Diese komplexe Struktur können Sie mit GitMA laden, indem Sie den Code in der folgenden Zeile ausführen. Klicken Sie dafür in die Zeile, sodass diese in einem grünen Kasten und somit als ausgewählt erscheint. Gehen Sie dann oben im Menü auf \"Run\"."
   ]
  },
  {
   "cell_type": "code",
   "execution_count": null,
   "metadata": {},
   "outputs": [],
   "source": [
    "from gitma import CatmaProject"
   ]
  },
  {
   "cell_type": "markdown",
   "metadata": {},
   "source": [
    "Als nächstes müssen Sie spezifizieren, welches Projekt genau geladen werden soll und wo es im Ordnersystem Ihres Computers zu finden ist. Um das Demo-Projekt zu nutzen, müssen Sie in unten stehendem Code nichts verändern. Wählen sie einfach die Code-Box aus, indem Sie sie anklicken, und gehen Sie dann auf \"Run\".\n",
    "\n",
    "Wenn Sie eigene CATMA-Daten nutzen wollen, so ändern Sie in den einfachen Anführungsstrichen, in denen jetzt \"../test/demo_project/\" steht, den Dateipfad ab, indem Sie den Pfad zum Ordner eingeben, in dem Ihr CATMA-Projekt abgelegt wurde. Haben Sie im ersten Teil dieser Lerneinheit einen Backup-Ordner angelegt, so geben Sie jetzt hier den Pfad zu genau diesem Ordner ein, also z.B. \"../gitma_demo/catma-backup\". In die einfachen Anführungsstriche, in denen jetzt \"test_corpus\" steht, geben Sie den Namen Ihres CATMA-Projektes ein."
   ]
  },
  {
   "cell_type": "code",
   "execution_count": null,
   "metadata": {},
   "outputs": [],
   "source": [
    "my_project = CatmaProject(\n",
    "    project_directory='../test/demo_project/',\n",
    "    project_name='test_corpus'\n",
    ")"
   ]
  },
  {
   "cell_type": "markdown",
   "metadata": {},
   "source": [
    "## 2. Generelle Statistiken aufrufen <a class=\"anchor\" id=\"2-bullet\"></a>\n",
    "\n",
    "Wenn Sie sich einen Überblick darüber verschaffen wollen, wie viele Annotationen in Ihrem Projekt sind, wer aus dem Team wie viele davon erstellt hat und welche Tags verwendet wurden, so können Sie sich dafür eine Tabelle anzeigen lassen. Führen Sie dazu den folgenden Code aus, indem Sie unten stehende Box auswählen und dann auf \"Run\" klicken."
   ]
  },
  {
   "cell_type": "code",
   "execution_count": null,
   "metadata": {},
   "outputs": [],
   "source": [
    "my_project.stats()"
   ]
  },
  {
   "cell_type": "markdown",
   "metadata": {},
   "source": [
    "## 3. Einen Überblick über die Annotationen eines Projektes bekommen <a class=\"anchor\" id=\"3-bullet\"></a>\n",
    "\n",
    "Sie können Ihre Annotationen in einer interaktiven Visualisierung grafisch darstellen. Mit der hier gezeigten Funktion wird jedes Dokument einzeln angezeigt. Das heißt, wenn Sie zu zweit zwei Texte annotiert haben, so erhalten Sie zwei Grafiken. Da in unserem Demo-Projekt nur ein Text annotiert wurde, erhalten Sie nur eine Grafik, wenn Sie dieses Projekt nutzen. Sie können wählen, wofür die farbliche Darstellung in der Visualisierung stehen soll. Im ersten Beispiel sind dies die Annotation Collections, im zweiten eine Property der Annotationen und im dritten die Annotator:innen.\n",
    "\n",
    "Um den Code auszuführen, klicken Sie wie gehabt in die unten stehende Zeile und dann auf \"Run\"."
   ]
  },
  {
   "cell_type": "code",
   "execution_count": null,
   "metadata": {},
   "outputs": [],
   "source": [
    "my_project.plot_interactive()"
   ]
  },
  {
   "cell_type": "markdown",
   "metadata": {},
   "source": [
    "<div class=\"alert alert-block alert-info\">\n",
    "<b>Aufgabe 2</b> Vergleichen Sie die beiden Visualisierungen. Welche Textstelle wurde in einer Annotation Collection als Stative Event und in der anderen als Process annotiert?\n",
    "</div>"
   ]
  },
  {
   "cell_type": "markdown",
   "metadata": {},
   "source": [
    "Wenn Sie statt der Annotation Collections lieber die Verwendung einer Property farbig darstellen wollen, nutzen Sie dazu den folgenden Code:"
   ]
  },
  {
   "cell_type": "code",
   "execution_count": null,
   "metadata": {},
   "outputs": [],
   "source": [
    "my_project.plot_interactive(color_col='prop:intentional')"
   ]
  },
  {
   "cell_type": "markdown",
   "metadata": {},
   "source": [
    "<div class=\"alert alert-block alert-info\">\n",
    "<b>Aufgabe 3</b> Wie viele Annotationen weisen die Property \"intentional\" nicht auf?\n",
    "</div>"
   ]
  },
  {
   "cell_type": "markdown",
   "metadata": {},
   "source": [
    "Statt der Annotator:innen und der Annotation Collections können Sie auch die Tags visualisieren. Nutzen Sie dazu die folgende Code-Zeile."
   ]
  },
  {
   "cell_type": "code",
   "execution_count": null,
   "metadata": {},
   "outputs": [],
   "source": [
    "my_project.plot_interactive(color_col='annotator')"
   ]
  },
  {
   "cell_type": "markdown",
   "metadata": {},
   "source": [
    "<div class=\"alert alert-block alert-info\">\n",
    "<b>Aufgabe 4</b> Aus der Tabelle unter \"2. Generelle Statistiken aufrufen\" können Sie ablesen, dass beide Annotatoren jeweils sechs Annotationen gemacht haben. Wie erklären Sie sich, dass hier nur insgesamt acht Annotationen angezeigt werden? \n",
    "</div>"
   ]
  },
  {
   "cell_type": "markdown",
   "metadata": {},
   "source": [
    "## 4. Spezifische Annotation Collections visualisieren <a class=\"anchor\" id=\"4-bullet\"></a>\n",
    "\n",
    "Wenn Sie nur eine bestimmte Annotation Collection, d.h. nur die Annotationen eines einzigen Team-Mitglieds visualisieren möchten, so können Sie dazu die unten stehende Funktion nutzen. Dargestellt sind auf der y-Achse die Tags, also die Annotationskategorien, und auf der x-Achse die Positionen im Text (in Zeichen, d.h. Position 500 bedeutet nicht Seite 500, sondern das 500. Zeichen im Text). Die Annotationen sind nach Tags (Farbe) und Umfang (Größe) ein Mal als Punkte im Koordinatensystem und ein Mal oberhalb desselben visualisiert. Oben sehen Sie, wie die Annotationen sich über den Text erstrecken und einander auch überlappen. Sowohl im Koordinatensystem als auch darüber können Sie die Maus-Hover-Funktion nutzen, um mehr Informationen zu erhalten. Führen Sie Ihre Maus z.B. über die zweite Annotation eines \"stative_event\" im Koordinatensytem, so erfahren sie u.a. die Größe der Annotation und auch den genauen Text, der annotiert worden ist. \n",
    "\n",
    "Wenn Sie eigene CATMA-Daten für Visualisierungen dieser Art nutzen, so ersetzen Sie \"ac_2\" in den einfachen Anführungszeichen durch den Namen der Annotation Collection, die Sie untersuchen möchten."
   ]
  },
  {
   "cell_type": "code",
   "execution_count": null,
   "metadata": {},
   "outputs": [],
   "source": [
    "my_project.ac_dict['ac_2'].plot_annotations()"
   ]
  },
  {
   "cell_type": "markdown",
   "metadata": {},
   "source": [
    "Sie können die Visualisierung anpassen, sodass sie anzeigt, ob Annotationen bestimmte Properties aufweisen. In unserem Beispielprojekt gibt es z.B. die Eigenschaft \"mental\" für die annotierten Events. Mit dem folgenden Code können Sie sichtbar machen, welche der annotierten Events diese Properties aufweisen. Klicken Sie dazu einfach in die folgende Zeile und dann auf \"Run\"."
   ]
  },
  {
   "cell_type": "code",
   "execution_count": null,
   "metadata": {},
   "outputs": [],
   "source": [
    "my_project.ac_dict['ac_2'].plot_annotations(y_axis='prop:mental')"
   ]
  },
  {
   "cell_type": "markdown",
   "metadata": {},
   "source": [
    "Wenn Sie schauen möchten, ob die Annotator:innen Properties unterschiedlich verwendet haben, so können Sie mit folgendem Code die Annotator:innen auf der y-Achse und die Annotationen auf der x-Achse anzeigen lassen. Die Farbe zeigt die Verwendung der Property an (hier: Unvorhersehbarkeit der annotierten Events). In unserem Beispielprojekt hat keiner der Annotatoren ein Event als unvorhersehbar klassifiziert. "
   ]
  },
  {
   "cell_type": "code",
   "execution_count": null,
   "metadata": {},
   "outputs": [],
   "source": [
    "my_project.ac_dict['ac_2'].plot_annotations(\n",
    "    y_axis='annotator',\n",
    "    color_prop='prop:unpredictable'\n",
    ")"
   ]
  },
  {
   "cell_type": "markdown",
   "metadata": {},
   "source": [
    "<div class=\"alert alert-block alert-info\">\n",
    "<b>Aufgabe 5</b> Statische oder Prozess-Events: Mit welcher Annotationskategorie wurde die längste Textpassage annotiert und wie viele Zeichen umfasst diese?\n",
    "</div>"
   ]
  },
  {
   "cell_type": "markdown",
   "metadata": {},
   "source": [
    "## 5. Kookurrenznetzwerke von Annotationen darstellen <a class=\"anchor\" id=\"5-bullet\"></a>\n",
    "\n",
    "Sie können Ihre Annotationen als Netzwerke darstellen, indem Sie z.B. immer die am nächsten zueinander stehenden Annotationskategorien berechnen lassen. Auf diese Weise bekommen Sie einen übergeordneten Blick auf Ihre Annotationskategorien. Sie können den folgenden Code ohne Anpassung ausführen, um mit unseren Beispieldaten ein sehr einfaches Netzwerk darzustellen. Wenn Sie mit eigenen Projektdaten arbeiten, so tauschen Sie \"ac_1\" gegen den Namen einer Ihrer Annotation Collections aus."
   ]
  },
  {
   "cell_type": "code",
   "execution_count": null,
   "metadata": {},
   "outputs": [],
   "source": [
    "my_project.ac_dict['ac_1'].cooccurrence_network()"
   ]
  },
  {
   "cell_type": "markdown",
   "metadata": {},
   "source": [
    "Sie können das Netzwerk anpassen, indem Sie folgende Parameter hinzufügen und ggf. abändern:\n",
    "\n",
    "* character_distance: Textspanne, in der sich zwei als kookurrent interpretierte Annotationen max. befinden können (Default Wert sind hier 100 Zeichen) \n",
    "* included_tags: Tags, die in die Netzwerkerstellung einbezogen werden sollen (in Form einer Liste)\n",
    "* excluded_tags: Tags, die nicht in die Netzwerkerstellung einbezogen werden sollen (in Form einer Liste)\n",
    "\n",
    "Da unser bisher genutztes Demo-Projekt zu wenig Daten besitzt, um ein derart modifiziertes Netzwerk abzubilden, haben wir einen anderen Datensatz als Beispiel aufbereitet.\n",
    "\n",
    "Wenn Sie mit eigenen Daten arbeiten, passen Sie wieder den Namen der Annotation Collection (hier: ac_1) an. Die übrigen Werte können Sie unverändert stehen lassen oder abändern, je nach Bedarf. Wenn Sie die Listen der berücksichtigten und ausgeschlossenen Tags erweitern wollen, vergessen Sie nicht, jeden hinzugefügten Tag in einfache Anführungsstriche zu setzen und mit einem Komma von dem vorigen zu trennen. "
   ]
  },
  {
   "cell_type": "code",
   "execution_count": null,
   "metadata": {},
   "outputs": [],
   "source": [
    "my_project.ac_dict['ac_1'].cooccurrence_network(\n",
    "    character_distance=50,\n",
    "    included_tags=['process', 'stative_event'],\n",
    "    excluded_tags=None\n",
    ")"
   ]
  },
  {
   "cell_type": "markdown",
   "metadata": {},
   "source": [
    "## 6. Annotation Collections als Pandas DataFrame darstellen <a class=\"anchor\" id=\"6-bullet\"></a>\n",
    "\n",
    "Mit der nächsten Funktion können Sie die Annotationen einer Annotation Collection und deren Kontexte in einer Tabelle darstellen. Wie bei den Visualisierungen im vorigen Abschnitt, können Sie entweder mit dem Demo-Projekt arbeiten und den Code unverändert ausführen oder mit eigenen CATMA-Daten arbeiten. Wenn Sie mit eigenen CATMA-Daten arbeiten, ersetzen Sie einfach wieder \"ac_2\" durch den Namen einer Ihrer Annotation Collections."
   ]
  },
  {
   "cell_type": "code",
   "execution_count": null,
   "metadata": {},
   "outputs": [],
   "source": [
    "my_project.ac_dict['ac_2'].df"
   ]
  },
  {
   "cell_type": "markdown",
   "metadata": {},
   "source": [
    "## 6.1 Tags analysieren <a class=\"anchor\" id=\"7-bullet\"></a>\n",
    "\n",
    "Möchten Sie herausfinden, wie viele Annotationen jeweils mit einem Tag gemacht wurden, wie viel Text jeweils mit einem Tag belegt wurde, wie die durchschnittliche Länge einer Annotation mit einem Tag ist und welche Wörter darin am häufigsten vorkommen? All das können Sie mit der nächsten Funktion machen. Wie gehabt, arbeiten Sie mit dem Demo-Projekt, wenn Sie den Code unverändert lassen. Wenn Sie mit eigenen Daten arbeiten, fügen Sie wieder den Namen Ihrer eigenen Annotation Collection ein. Sie können außerdem die Anzahl der häufigsten Tokens eines Tags, die aufgelistet werden soll, anpassen. Um dies zu tun, ersetzen Sie die 5 beim \"ranking\" durch eine andere Zahl."
   ]
  },
  {
   "cell_type": "code",
   "execution_count": null,
   "metadata": {},
   "outputs": [],
   "source": [
    "my_project.ac_dict['ac_2'].tag_stats(ranking=5)"
   ]
  },
  {
   "cell_type": "markdown",
   "metadata": {},
   "source": [
    "Wenn Sie Propertys verwendet haben, so können Sie die Funktion auch so anwenden, dass Ihnen nur Annotationen aufgelistet werden, bei denen eine bestimmte Property verwendet wurde. In unten stehendem Beispiel werden nur Annotationen von Events berücksichtigt, bei der die Property \"mental\" genutzt wurde. In den Reihen zeigen sich die unterschiedlichen Werte der Property, die vergeben wurden (hier \"no\" und \"yes\"). Beim Ranking werden hier die 3 häufigsten Wörter berücksichtigt und es werden Stopwörter ausgeschlossen. Stopwörter sind Wörter, die Sie aus der Analyse ausschließen wollen. Sie können die Stopwörter anpassen, indem Sie in den eckigen Klammern am Ende \"in\" und \"im\" ersetzen. Außerdem können Sie weitere Wörter ergänzen. Setzen Sie dabei jedes Wort in einfache Anführungsstriche und trennen Sie die Wörter mit einem Komma. Wie bei den vorherigen Code-Beispielen, können Sie auch hier wieder mit eigenen Daten arbeiten und \"ac_2\" durch den Namen einer Ihrer Annotation Collections ersetzen."
   ]
  },
  {
   "cell_type": "code",
   "execution_count": null,
   "metadata": {},
   "outputs": [],
   "source": [
    "my_project.ac_dict['ac_2'].tag_stats(tag_col='prop:mental', ranking=3, stopwords=['in', 'im'])"
   ]
  },
  {
   "cell_type": "markdown",
   "metadata": {},
   "source": [
    "Wenn Sie möchten, dass in den Reihen nicht die Property-Values, sondern die Annotator:innen angegeben werden, so nutzen Sie den folgenden Code. Es werden im Beispiel die drei häufigsten Wörter in die Analyse einbezogen. Auch hier kann bei Bedarf \"ac_2\" wieder durch den Namen einer eigenen Annotation Collection ersetzt werden."
   ]
  },
  {
   "cell_type": "code",
   "execution_count": null,
   "metadata": {},
   "outputs": [],
   "source": [
    "my_project.ac_dict['ac_2'].tag_stats(tag_col='annotator', ranking=3)"
   ]
  },
  {
   "cell_type": "markdown",
   "metadata": {},
   "source": [
    "## 6.2 Propertys analysieren <a class=\"anchor\" id=\"8-bullet\"></a>\n",
    "\n",
    "Wenn Sie die Nutzung aller Propertys und deren Wertung analysieren wollen, so können Sie das mit der letzten, in diesem Teil der Lerneinheit zur Annotationsanalyse mit GitMA, gezeigten Funktion tun. Wenn Sie mit eigenen Daten arbeiten, ersetzen Sie wie gehabt \"ac_2\"."
   ]
  },
  {
   "cell_type": "code",
   "execution_count": null,
   "metadata": {},
   "outputs": [],
   "source": [
    "my_project.ac_dict['ac_2'].property_stats()"
   ]
  },
  {
   "cell_type": "markdown",
   "metadata": {},
   "source": [
    "<div class=\"alert alert-block alert-info\">\n",
    "<b>Aufgabe 6</b> Wie viele Events wurden als intentional klassifiziert, wie viele als nicht-inetntional und bei wie vielen Annotationen wurde diese Property nicht mit einem Wert versehen?\n",
    "</div>"
   ]
  },
  {
   "cell_type": "markdown",
   "metadata": {},
   "source": [
    "Ein Projekt laden, sich einen Überblick darüber verschaffen, Annotation Collections visualisieren und Tags und deren Propertys analysieren – all das können Sie nun bereits mithilfe von GitMA tun. Im nächsten Teil dieser Lerneinheit zeigen wir Ihnen, wie Sie mit GitMA eine Goldstandard-Annotation erstellen und in Ihr Projekt in CATMA hochladen können. Um mit dem dritten Teil der Lerneinheit zu beginnen, öffnen Sie bitte das Jupyter Notebook mit dem Namen \"Annotationen auswerten mit GitMA 3\"."
   ]
  }
 ],
 "metadata": {
  "interpreter": {
   "hash": "87fea37bc2fc5e48df9c556e0c5d422e790f997aa4713ca3dbac94eb0b0e073b"
  },
  "kernelspec": {
   "display_name": "Python 3 (ipykernel)",
   "language": "python",
   "name": "python3"
  },
  "language_info": {
   "codemirror_mode": {
    "name": "ipython",
    "version": 3
   },
   "file_extension": ".py",
   "mimetype": "text/x-python",
   "name": "python",
   "nbconvert_exporter": "python",
   "pygments_lexer": "ipython3",
   "version": "3.9.7"
  }
 },
 "nbformat": 4,
 "nbformat_minor": 2
}
